{
 "cells": [
  {
   "cell_type": "code",
   "execution_count": 1,
   "id": "f53f242a-365c-47ad-a3f0-588068162bd7",
   "metadata": {},
   "outputs": [
    {
     "name": "stdout",
     "output_type": "stream",
     "text": [
      "hello world!\n"
     ]
    }
   ],
   "source": [
    "print('hello world!')"
   ]
  },
  {
   "cell_type": "code",
   "execution_count": 4,
   "id": "494da733-2423-492c-80ba-c47a734ba17d",
   "metadata": {},
   "outputs": [
    {
     "name": "stdout",
     "output_type": "stream",
     "text": [
      "Requirement already satisfied: keras in c:\\miniconda\\envs\\py38_default\\lib\\site-packages (2.9.0)\n"
     ]
    }
   ],
   "source": [
    "!pip install keras"
   ]
  },
  {
   "cell_type": "code",
   "execution_count": 9,
   "id": "028ff5b9-7cb9-4f3d-b5ce-89644f67c471",
   "metadata": {},
   "outputs": [],
   "source": [
    "import os\n",
    "import tensorflow as tf\n",
    "from tensorflow import keras\n",
    "from tensorflow.keras import models\n",
    "from tensorflow.keras import layers\n",
    "import numpy as np"
   ]
  },
  {
   "cell_type": "code",
   "execution_count": 16,
   "id": "052628bb-883c-428e-9c66-348006d3dc14",
   "metadata": {},
   "outputs": [],
   "source": [
    "model = models.Sequential()\n",
    "model.add(layers.Conv2D(32,(3,3), activation = 'relu', input_shape=(28,28,1))) #Conv2D는 이미지처리에 주로쓰임\n",
    "model.add(layers.MaxPooling2D((2,2)))#MaxPooling2D\n",
    "model.add(layers.Conv2D(64,(3,3), activation = 'relu'))\n",
    "model.add(layers.MaxPooling2D((2,2)))\n",
    "model.add(layers.Conv2D(64,(3,3), activation = 'relu'))"
   ]
  },
  {
   "cell_type": "code",
   "execution_count": 17,
   "id": "a40f02a2-19d3-41c0-a0bc-acd576905f07",
   "metadata": {},
   "outputs": [
    {
     "name": "stdout",
     "output_type": "stream",
     "text": [
      "Model: \"sequential\"\n",
      "_________________________________________________________________\n",
      "Layer (type)                 Output Shape              Param #   \n",
      "=================================================================\n",
      "conv2d (Conv2D)              (None, 26, 26, 32)        320       \n",
      "_________________________________________________________________\n",
      "max_pooling2d (MaxPooling2D) (None, 13, 13, 32)        0         \n",
      "_________________________________________________________________\n",
      "conv2d_1 (Conv2D)            (None, 11, 11, 64)        18496     \n",
      "_________________________________________________________________\n",
      "max_pooling2d_1 (MaxPooling2 (None, 5, 5, 64)          0         \n",
      "_________________________________________________________________\n",
      "conv2d_2 (Conv2D)            (None, 3, 3, 64)          36928     \n",
      "=================================================================\n",
      "Total params: 55,744\n",
      "Trainable params: 55,744\n",
      "Non-trainable params: 0\n",
      "_________________________________________________________________\n"
     ]
    }
   ],
   "source": [
    "model.summary()"
   ]
  },
  {
   "cell_type": "code",
   "execution_count": 18,
   "id": "b56b746a-8309-4e8e-9239-a8705c745e10",
   "metadata": {},
   "outputs": [],
   "source": [
    "model.add(layers.Flatten())\n",
    "model.add(layers.Dense(64, activation = 'relu'))\n",
    "model.add(layers.Dense(10, activation = 'softmax'))"
   ]
  },
  {
   "cell_type": "code",
   "execution_count": 20,
   "id": "16a45925-392f-418f-b66a-58c04f30c15a",
   "metadata": {},
   "outputs": [
    {
     "name": "stdout",
     "output_type": "stream",
     "text": [
      "Downloading data from https://storage.googleapis.com/tensorflow/tf-keras-datasets/mnist.npz\n",
      "11493376/11490434 [==============================] - 0s 0us/step\n"
     ]
    }
   ],
   "source": [
    "from tensorflow.keras.datasets import mnist\n",
    "from tensorflow.keras.utils import to_categorical\n",
    "\n",
    "(train_img, train_labels),(test_img, test_labels) = mnist.load_data()\n",
    "\n",
    "#데이터 형태 만들기 : Conv2D는 이미지를 처리하기 위해 만들어졌기에 이에 맞춰 변경해야한다, 이미지는 3차원의 데이터가 필요하다.(가로,세로, 픽셀데이터)\n",
    "train_img = train_img.reshape((60000,28,28,1)) #reshape = 형태를 바꿈, 6만개의 자료, 가로28, 세로28, 흑백 = 1\n",
    "train_img = train_img.astype('float32')\n",
    "test_img = test_img.reshape((10000,28,28,1))\n",
    "test_img = test_img.astype('float32')\n",
    "\n",
    "train_labels = to_categorical(train_labels)\n",
    "test_labels = to_categorical(test_labels)"
   ]
  },
  {
   "cell_type": "code",
   "execution_count": 21,
   "id": "baa465fa-da04-4869-8e39-880380734551",
   "metadata": {},
   "outputs": [
    {
     "name": "stdout",
     "output_type": "stream",
     "text": [
      "Epoch 1/5\n",
      "938/938 [==============================] - 34s 36ms/step - loss: 0.3983 - accuracy: 0.9341\n",
      "Epoch 2/5\n",
      "938/938 [==============================] - 34s 36ms/step - loss: 0.0664 - accuracy: 0.9818\n",
      "Epoch 3/5\n",
      "938/938 [==============================] - 34s 36ms/step - loss: 0.0503 - accuracy: 0.9858\n",
      "Epoch 4/5\n",
      "938/938 [==============================] - 34s 36ms/step - loss: 0.0446 - accuracy: 0.9883\n",
      "Epoch 5/5\n",
      "938/938 [==============================] - 34s 36ms/step - loss: 0.0429 - accuracy: 0.9893\n"
     ]
    },
    {
     "data": {
      "text/plain": [
       "<tensorflow.python.keras.callbacks.History at 0x14c7c570e20>"
      ]
     },
     "execution_count": 21,
     "metadata": {},
     "output_type": "execute_result"
    }
   ],
   "source": [
    "model.compile(optimizer = 'rmsprop',\n",
    "             loss = 'categorical_crossentropy',\n",
    "             metrics=['accuracy'])\n",
    "model.fit(train_img, train_labels, epochs = 5, batch_size = 64)"
   ]
  },
  {
   "cell_type": "code",
   "execution_count": 22,
   "id": "a7868bab-2e5f-4020-bde4-e82ff170dfbc",
   "metadata": {},
   "outputs": [
    {
     "name": "stdout",
     "output_type": "stream",
     "text": [
      "313/313 [==============================] - 2s 7ms/step - loss: 0.0670 - accuracy: 0.9800\n"
     ]
    }
   ],
   "source": [
    "test_loss, test_acc = model.evaluate(test_img, test_labels)"
   ]
  },
  {
   "cell_type": "code",
   "execution_count": 23,
   "id": "dcdaf188-be4e-412e-a321-dfbe92493c85",
   "metadata": {},
   "outputs": [
    {
     "data": {
      "text/plain": [
       "0.9800000190734863"
      ]
     },
     "execution_count": 23,
     "metadata": {},
     "output_type": "execute_result"
    }
   ],
   "source": [
    "test_acc"
   ]
  },
  {
   "cell_type": "code",
   "execution_count": null,
   "id": "3b4bdbc7-f051-4398-8fbe-b05a95aa37bd",
   "metadata": {},
   "outputs": [],
   "source": []
  }
 ],
 "metadata": {
  "kernelspec": {
   "display_name": "Python 3.8 - AzureML",
   "language": "python",
   "name": "azureml_py38"
  },
  "language_info": {
   "codemirror_mode": {
    "name": "ipython",
    "version": 3
   },
   "file_extension": ".py",
   "mimetype": "text/x-python",
   "name": "python",
   "nbconvert_exporter": "python",
   "pygments_lexer": "ipython3",
   "version": "3.8.5"
  }
 },
 "nbformat": 4,
 "nbformat_minor": 5
}
