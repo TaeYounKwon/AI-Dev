{
 "cells": [
  {
   "cell_type": "code",
   "execution_count": 4,
   "id": "6f9a2743",
   "metadata": {},
   "outputs": [],
   "source": [
    "class MyClass:\n",
    "    pass #빈 클래스 생성 시 pass"
   ]
  },
  {
   "cell_type": "code",
   "execution_count": 5,
   "id": "049823ce",
   "metadata": {},
   "outputs": [
    {
     "data": {
      "text/plain": [
       "__main__.MyClass"
      ]
     },
     "execution_count": 5,
     "metadata": {},
     "output_type": "execute_result"
    }
   ],
   "source": [
    "MyClass"
   ]
  },
  {
   "cell_type": "code",
   "execution_count": 6,
   "id": "d3b5a64e",
   "metadata": {},
   "outputs": [
    {
     "data": {
      "text/plain": [
       "type"
      ]
     },
     "execution_count": 6,
     "metadata": {},
     "output_type": "execute_result"
    }
   ],
   "source": [
    "type(MyClass)"
   ]
  },
  {
   "cell_type": "code",
   "execution_count": 7,
   "id": "3042c649",
   "metadata": {},
   "outputs": [],
   "source": [
    "#객체 특징: 속성, 동작\n",
    "class Person:\n",
    "    Name = 'Defalut Name' #속성(Perperty)\n",
    "    \n",
    "    def Print(self): #클래스 안의 함수는 self가 있어야한다.\n",
    "        print('My name is {0}'.format(self.Name))\n",
    "    "
   ]
  },
  {
   "cell_type": "code",
   "execution_count": 8,
   "id": "b99a77c6",
   "metadata": {},
   "outputs": [],
   "source": [
    "Lee = Person()"
   ]
  },
  {
   "cell_type": "code",
   "execution_count": 9,
   "id": "3d1f454b",
   "metadata": {},
   "outputs": [
    {
     "name": "stdout",
     "output_type": "stream",
     "text": [
      "My name is Lee\n"
     ]
    }
   ],
   "source": [
    "Lee.Name = 'Lee'\n",
    "Lee.Print()"
   ]
  },
  {
   "cell_type": "code",
   "execution_count": 10,
   "id": "0dee125f",
   "metadata": {},
   "outputs": [],
   "source": [
    "p1 = Person()\n",
    "p2 = Person()"
   ]
  },
  {
   "cell_type": "code",
   "execution_count": 11,
   "id": "6e9a1837",
   "metadata": {},
   "outputs": [],
   "source": [
    "p1.Name = 'Kim'\n",
    "p2.Name = 'Park'"
   ]
  },
  {
   "cell_type": "code",
   "execution_count": 12,
   "id": "24ba35e7",
   "metadata": {},
   "outputs": [
    {
     "name": "stdout",
     "output_type": "stream",
     "text": [
      "My name is Kim\n",
      "My name is Park\n"
     ]
    }
   ],
   "source": [
    "p1.Print()\n",
    "p2.Print()"
   ]
  },
  {
   "cell_type": "code",
   "execution_count": 13,
   "id": "6034e607",
   "metadata": {},
   "outputs": [],
   "source": [
    "# instance\n",
    "\n",
    "Person.title = 'New Title' #Person클래스의 title 속성 추가\n",
    "#함수에 속성 추가 시 클래스 전체에 추가"
   ]
  },
  {
   "cell_type": "code",
   "execution_count": 14,
   "id": "44ea117c",
   "metadata": {},
   "outputs": [
    {
     "data": {
      "text/plain": [
       "'New Title'"
      ]
     },
     "execution_count": 14,
     "metadata": {},
     "output_type": "execute_result"
    }
   ],
   "source": [
    "p1.title"
   ]
  },
  {
   "cell_type": "code",
   "execution_count": 15,
   "id": "c687658e",
   "metadata": {},
   "outputs": [],
   "source": [
    "p1.age = 20"
   ]
  },
  {
   "cell_type": "code",
   "execution_count": 16,
   "id": "a10e4433",
   "metadata": {},
   "outputs": [
    {
     "data": {
      "text/plain": [
       "20"
      ]
     },
     "execution_count": 16,
     "metadata": {},
     "output_type": "execute_result"
    }
   ],
   "source": [
    "p1.age #인스턴스에 속성 추가 시 인스턴스에만 적용됨"
   ]
  },
  {
   "cell_type": "code",
   "execution_count": 53,
   "id": "a523c946",
   "metadata": {},
   "outputs": [
    {
     "ename": "AttributeError",
     "evalue": "'Person' object has no attribute 'age'",
     "output_type": "error",
     "traceback": [
      "\u001b[1;31m---------------------------------------------------------------------------\u001b[0m",
      "\u001b[1;31mAttributeError\u001b[0m                            Traceback (most recent call last)",
      "Input \u001b[1;32mIn [53]\u001b[0m, in \u001b[0;36m<cell line: 1>\u001b[1;34m()\u001b[0m\n\u001b[1;32m----> 1\u001b[0m \u001b[43mp2\u001b[49m\u001b[38;5;241;43m.\u001b[39;49m\u001b[43mage\u001b[49m\n",
      "\u001b[1;31mAttributeError\u001b[0m: 'Person' object has no attribute 'age'"
     ]
    }
   ],
   "source": [
    "p2.age"
   ]
  },
  {
   "cell_type": "code",
   "execution_count": 54,
   "id": "5c02d3c1",
   "metadata": {},
   "outputs": [
    {
     "ename": "AttributeError",
     "evalue": "type object 'Person' has no attribute 'age'",
     "output_type": "error",
     "traceback": [
      "\u001b[1;31m---------------------------------------------------------------------------\u001b[0m",
      "\u001b[1;31mAttributeError\u001b[0m                            Traceback (most recent call last)",
      "Input \u001b[1;32mIn [54]\u001b[0m, in \u001b[0;36m<cell line: 1>\u001b[1;34m()\u001b[0m\n\u001b[1;32m----> 1\u001b[0m \u001b[43mPerson\u001b[49m\u001b[38;5;241;43m.\u001b[39;49m\u001b[43mage\u001b[49m\n",
      "\u001b[1;31mAttributeError\u001b[0m: type object 'Person' has no attribute 'age'"
     ]
    }
   ],
   "source": [
    "Person.age"
   ]
  },
  {
   "cell_type": "code",
   "execution_count": 55,
   "id": "d19c86a2",
   "metadata": {},
   "outputs": [],
   "source": [
    "# 클래스의 상속\n",
    "\n",
    "class Person:\n",
    "    pass"
   ]
  },
  {
   "cell_type": "code",
   "execution_count": 20,
   "id": "96c1a89f",
   "metadata": {},
   "outputs": [],
   "source": [
    "class Bird:\n",
    "    pass"
   ]
  },
  {
   "cell_type": "code",
   "execution_count": 21,
   "id": "b641ff72",
   "metadata": {},
   "outputs": [],
   "source": [
    "class Student(Person): #상속: class 클래스명(상속받는 클래스명)\n",
    "    pass"
   ]
  },
  {
   "cell_type": "code",
   "execution_count": 22,
   "id": "b4d69e26",
   "metadata": {},
   "outputs": [],
   "source": [
    "p = Person()\n",
    "s = Student()"
   ]
  },
  {
   "cell_type": "code",
   "execution_count": 23,
   "id": "c23917d7",
   "metadata": {},
   "outputs": [
    {
     "data": {
      "text/plain": [
       "True"
      ]
     },
     "execution_count": 23,
     "metadata": {},
     "output_type": "execute_result"
    }
   ],
   "source": [
    "isinstance(p,Person) #(p가 Person 클래스에서 만든 인스턴트인지?)"
   ]
  },
  {
   "cell_type": "code",
   "execution_count": 24,
   "id": "6027570c",
   "metadata": {},
   "outputs": [
    {
     "data": {
      "text/plain": [
       "True"
      ]
     },
     "execution_count": 24,
     "metadata": {},
     "output_type": "execute_result"
    }
   ],
   "source": [
    "isinstance(s, Person)"
   ]
  },
  {
   "cell_type": "code",
   "execution_count": 25,
   "id": "72862034",
   "metadata": {},
   "outputs": [
    {
     "data": {
      "text/plain": [
       "True"
      ]
     },
     "execution_count": 25,
     "metadata": {},
     "output_type": "execute_result"
    }
   ],
   "source": [
    "isinstance(s, object) #object는 모든 객체와 호환 가능"
   ]
  },
  {
   "cell_type": "code",
   "execution_count": 26,
   "id": "12f58c75",
   "metadata": {},
   "outputs": [
    {
     "data": {
      "text/plain": [
       "False"
      ]
     },
     "execution_count": 26,
     "metadata": {},
     "output_type": "execute_result"
    }
   ],
   "source": [
    "isinstance(p, Bird)"
   ]
  },
  {
   "cell_type": "code",
   "execution_count": 27,
   "id": "345a30fe",
   "metadata": {},
   "outputs": [
    {
     "data": {
      "text/plain": [
       "False"
      ]
     },
     "execution_count": 27,
     "metadata": {},
     "output_type": "execute_result"
    }
   ],
   "source": [
    "isinstance(p, Student)"
   ]
  },
  {
   "cell_type": "code",
   "execution_count": 28,
   "id": "1c04325f",
   "metadata": {},
   "outputs": [],
   "source": [
    "#생성자, 소멸자\n",
    "#생성자 : 어떤 객체를 만들 때 동작하는 메소드\n",
    "#소멸자 : 어떤 객체가 소멸할 때 동작하는 메소드\n",
    "class MyClass:\n",
    "    #생성자\n",
    "    def __init__(self, value): #이름이 정해져있음(__init__),self는 무조건 들어감\n",
    "        self.Value = value\n",
    "        print('Class is Created! Value = ', value)\n",
    "    #소멸자\n",
    "    def __del__(self): #(__del__)\n",
    "        print('Class is deleted')"
   ]
  },
  {
   "cell_type": "code",
   "execution_count": 29,
   "id": "037e21b4",
   "metadata": {},
   "outputs": [
    {
     "name": "stdout",
     "output_type": "stream",
     "text": [
      "Class is Created! Value =  10\n"
     ]
    }
   ],
   "source": [
    "m = MyClass(10)\n",
    "#생성자를 가지고 나옴, value값 넣어줌"
   ]
  },
  {
   "cell_type": "code",
   "execution_count": 30,
   "id": "59a6c854",
   "metadata": {},
   "outputs": [
    {
     "name": "stdout",
     "output_type": "stream",
     "text": [
      "Class is deleted\n"
     ]
    }
   ],
   "source": [
    "del m"
   ]
  },
  {
   "cell_type": "code",
   "execution_count": 31,
   "id": "f1f87e73",
   "metadata": {},
   "outputs": [],
   "source": [
    "#정적 메소드\n",
    "class CounterManager:\n",
    "    insCount = 0\n",
    "    \n",
    "    def __init(self):\n",
    "        CounterManager.insCount += 1\n",
    "    def printInstanceCount():\n",
    "        print('Instance Count : ', CounterManager.insCount)"
   ]
  },
  {
   "cell_type": "code",
   "execution_count": 32,
   "id": "c541a38e",
   "metadata": {},
   "outputs": [],
   "source": [
    "a, b, c = CounterManager(), CounterManager(), CounterManager()\n",
    "#a = CounterManager()\n",
    "#b = CounterManager()\n",
    "#c = CounterManager() 와 같다."
   ]
  },
  {
   "cell_type": "code",
   "execution_count": 33,
   "id": "bf0a9626",
   "metadata": {},
   "outputs": [
    {
     "name": "stdout",
     "output_type": "stream",
     "text": [
      "Instance Count :  0\n"
     ]
    }
   ],
   "source": [
    "CounterManager.printInstanceCount()"
   ]
  },
  {
   "cell_type": "code",
   "execution_count": 34,
   "id": "d3d7a92e",
   "metadata": {},
   "outputs": [],
   "source": [
    "class Person:\n",
    "    def __init__(self, name, phone):\n",
    "        self.Name = name\n",
    "        self.Phone = phone\n",
    "    def PrintInfo(self):\n",
    "        print('info(Name: {0}, Phone: {1})'.format(self.Name, self.Phone))\n",
    "  \n",
    "    def PrintPersonData(self):\n",
    "        print('Person(Name: {0}, Phone: {1})'.format(self.Name, self.Phone))\n",
    "        "
   ]
  },
  {
   "cell_type": "code",
   "execution_count": 35,
   "id": "b0fa0d1a",
   "metadata": {},
   "outputs": [],
   "source": [
    "#자식클래스에서 부모클래스와 같이 입력 시 변경가능\n",
    "class Student(Person):\n",
    "    def __init__(self, name, phone, subject, studentID):\n",
    "        self.Name = name\n",
    "        self.Phone = phone\n",
    "        self.Subject = subject\n",
    "        self.StudentID = studentID\n",
    "    def PrintStudentID(self):\n",
    "        print(self.StudentID)"
   ]
  },
  {
   "cell_type": "code",
   "execution_count": 36,
   "id": "6db00490",
   "metadata": {},
   "outputs": [],
   "source": [
    "p = Person('IU', '010-1111-2222')\n",
    "s = Student('MinA','010-3333-4444','Computer Science','00000')"
   ]
  },
  {
   "cell_type": "code",
   "execution_count": 37,
   "id": "8f19cc50",
   "metadata": {},
   "outputs": [
    {
     "data": {
      "text/plain": [
       "<__main__.Person at 0x25b49e92e80>"
      ]
     },
     "execution_count": 37,
     "metadata": {},
     "output_type": "execute_result"
    }
   ],
   "source": [
    "p"
   ]
  },
  {
   "cell_type": "code",
   "execution_count": 38,
   "id": "67de28aa",
   "metadata": {},
   "outputs": [
    {
     "data": {
      "text/plain": [
       "<__main__.Student at 0x25b49ddfeb0>"
      ]
     },
     "execution_count": 38,
     "metadata": {},
     "output_type": "execute_result"
    }
   ],
   "source": [
    "s"
   ]
  },
  {
   "cell_type": "code",
   "execution_count": 39,
   "id": "918209aa",
   "metadata": {},
   "outputs": [
    {
     "data": {
      "text/plain": [
       "{'Name': 'IU', 'Phone': '010-1111-2222'}"
      ]
     },
     "execution_count": 39,
     "metadata": {},
     "output_type": "execute_result"
    }
   ],
   "source": [
    "p.__dict__"
   ]
  },
  {
   "cell_type": "code",
   "execution_count": 40,
   "id": "a64b644b",
   "metadata": {},
   "outputs": [
    {
     "data": {
      "text/plain": [
       "{'Name': 'MinA',\n",
       " 'Phone': '010-3333-4444',\n",
       " 'Subject': 'Computer Science',\n",
       " 'StudentID': '00000'}"
      ]
     },
     "execution_count": 40,
     "metadata": {},
     "output_type": "execute_result"
    }
   ],
   "source": [
    "s.__dict__"
   ]
  },
  {
   "cell_type": "code",
   "execution_count": 41,
   "id": "e6caa828",
   "metadata": {},
   "outputs": [
    {
     "name": "stdout",
     "output_type": "stream",
     "text": [
      "info(Name: IU, Phone: 010-1111-2222)\n"
     ]
    }
   ],
   "source": [
    "p.PrintInfo()"
   ]
  },
  {
   "cell_type": "code",
   "execution_count": 42,
   "id": "50038c1f",
   "metadata": {},
   "outputs": [
    {
     "name": "stdout",
     "output_type": "stream",
     "text": [
      "info(Name: MinA, Phone: 010-3333-4444)\n"
     ]
    }
   ],
   "source": [
    "s.PrintInfo()"
   ]
  },
  {
   "cell_type": "code",
   "execution_count": 43,
   "id": "022c055b",
   "metadata": {},
   "outputs": [
    {
     "name": "stdout",
     "output_type": "stream",
     "text": [
      "00000\n"
     ]
    }
   ],
   "source": [
    "s.PrintStudentID()"
   ]
  },
  {
   "cell_type": "code",
   "execution_count": 44,
   "id": "b1b6104e",
   "metadata": {},
   "outputs": [
    {
     "data": {
      "text/plain": [
       "True"
      ]
     },
     "execution_count": 44,
     "metadata": {},
     "output_type": "execute_result"
    }
   ],
   "source": [
    "#상속 관계 확인 a가 b를 상속받는지\n",
    "issubclass(Student, Person)"
   ]
  },
  {
   "cell_type": "code",
   "execution_count": 45,
   "id": "d13ef7b3",
   "metadata": {},
   "outputs": [
    {
     "data": {
      "text/plain": [
       "False"
      ]
     },
     "execution_count": 45,
     "metadata": {},
     "output_type": "execute_result"
    }
   ],
   "source": [
    "issubclass(Person, Student)"
   ]
  },
  {
   "cell_type": "code",
   "execution_count": 46,
   "id": "fcb6c655",
   "metadata": {},
   "outputs": [],
   "source": [
    "#다중 상속(왠만하면 안쓰는게 좋다)\n",
    "\n",
    "class Tiger:\n",
    "    def Jump(self):\n",
    "        print('Tiger Jump!')"
   ]
  },
  {
   "cell_type": "code",
   "execution_count": 47,
   "id": "075ff215",
   "metadata": {},
   "outputs": [],
   "source": [
    "class Lion:\n",
    "    def Bite(self):\n",
    "        print('Lion Bite!')"
   ]
  },
  {
   "cell_type": "code",
   "execution_count": 48,
   "id": "49a9d638",
   "metadata": {},
   "outputs": [],
   "source": [
    "class Liger(Tiger, Lion):\n",
    "    def Play(self):\n",
    "        print('Liger Player')"
   ]
  },
  {
   "cell_type": "code",
   "execution_count": 49,
   "id": "c60b6b0f",
   "metadata": {},
   "outputs": [],
   "source": [
    "l = Liger()"
   ]
  },
  {
   "cell_type": "code",
   "execution_count": 50,
   "id": "d17f728f",
   "metadata": {},
   "outputs": [
    {
     "name": "stdout",
     "output_type": "stream",
     "text": [
      "Liger Player\n"
     ]
    }
   ],
   "source": [
    "l.Play()"
   ]
  },
  {
   "cell_type": "code",
   "execution_count": 51,
   "id": "f0bc1ba2",
   "metadata": {},
   "outputs": [
    {
     "name": "stdout",
     "output_type": "stream",
     "text": [
      "Lion Bite!\n"
     ]
    }
   ],
   "source": [
    "l.Bite()"
   ]
  },
  {
   "cell_type": "code",
   "execution_count": 52,
   "id": "b5e5b2e7",
   "metadata": {},
   "outputs": [
    {
     "name": "stdout",
     "output_type": "stream",
     "text": [
      "Tiger Jump!\n"
     ]
    }
   ],
   "source": [
    "l.Jump()"
   ]
  }
 ],
 "metadata": {
  "kernelspec": {
   "display_name": "Python 3 (ipykernel)",
   "language": "python",
   "name": "python3"
  },
  "language_info": {
   "codemirror_mode": {
    "name": "ipython",
    "version": 3
   },
   "file_extension": ".py",
   "mimetype": "text/x-python",
   "name": "python",
   "nbconvert_exporter": "python",
   "pygments_lexer": "ipython3",
   "version": "3.9.12"
  }
 },
 "nbformat": 4,
 "nbformat_minor": 5
}
