{
 "cells": [
  {
   "cell_type": "code",
   "execution_count": 3,
   "id": "bba3ad65",
   "metadata": {},
   "outputs": [
    {
     "name": "stdout",
     "output_type": "stream",
     "text": [
      "[1, 2, 3, 4, 5]\n",
      "4\n",
      "1\n",
      "2\n"
     ]
    }
   ],
   "source": [
    "# List\n",
    "a_list=[1,2,3,4,5]\n",
    "print(a_list)\n",
    "print(a_list[3])\n",
    "print(a_list[0])\n",
    "print(a_list[1])"
   ]
  },
  {
   "cell_type": "code",
   "execution_count": 5,
   "id": "a49d22b9",
   "metadata": {},
   "outputs": [
    {
     "name": "stdout",
     "output_type": "stream",
     "text": [
      "3\n",
      "[1, 2]\n"
     ]
    }
   ],
   "source": [
    "# 슬라이싱\n",
    "print(a_list[2])\n",
    "print(a_list[:2])"
   ]
  },
  {
   "cell_type": "code",
   "execution_count": 6,
   "id": "15329c12",
   "metadata": {},
   "outputs": [
    {
     "name": "stdout",
     "output_type": "stream",
     "text": [
      "[3, 4, 5]\n"
     ]
    }
   ],
   "source": [
    "print(a_list[2:])"
   ]
  },
  {
   "cell_type": "code",
   "execution_count": 7,
   "id": "aa6fedd7",
   "metadata": {},
   "outputs": [
    {
     "name": "stdout",
     "output_type": "stream",
     "text": [
      "[1, 2, 3, 4, 5]\n"
     ]
    }
   ],
   "source": [
    "print(a_list[:])"
   ]
  },
  {
   "cell_type": "code",
   "execution_count": 9,
   "id": "844c6997",
   "metadata": {},
   "outputs": [
    {
     "name": "stdout",
     "output_type": "stream",
     "text": [
      "[2, 4]\n"
     ]
    }
   ],
   "source": [
    "print(a_list[1::2])"
   ]
  },
  {
   "cell_type": "code",
   "execution_count": 14,
   "id": "389313ba",
   "metadata": {},
   "outputs": [
    {
     "name": "stdout",
     "output_type": "stream",
     "text": [
      "[100, 2, 3, 4, 5]\n"
     ]
    }
   ],
   "source": [
    "b = a_list[:]\n",
    "b[0] = 100\n",
    "print(b)"
   ]
  },
  {
   "cell_type": "code",
   "execution_count": 13,
   "id": "1ea62ebc",
   "metadata": {},
   "outputs": [
    {
     "name": "stdout",
     "output_type": "stream",
     "text": [
      "[10, 2, 3, 4, 5]\n"
     ]
    }
   ],
   "source": [
    "print(a_list)"
   ]
  },
  {
   "cell_type": "code",
   "execution_count": 15,
   "id": "cad152d7",
   "metadata": {},
   "outputs": [
    {
     "name": "stdout",
     "output_type": "stream",
     "text": [
      "[1, 2, 3]\n"
     ]
    }
   ],
   "source": [
    "b_list = []\n",
    "b_list.append(1)\n",
    "b_list.append(2)\n",
    "b_list.append(3)\n",
    "print(b_list)"
   ]
  },
  {
   "cell_type": "code",
   "execution_count": 19,
   "id": "e9754476",
   "metadata": {},
   "outputs": [
    {
     "name": "stdout",
     "output_type": "stream",
     "text": [
      "[1, 2, 100, 3, 2, 2, 2]\n"
     ]
    }
   ],
   "source": [
    "b_list.insert(2, 100) #insert(위치,요소)\n",
    "print(b_list)"
   ]
  },
  {
   "cell_type": "code",
   "execution_count": 23,
   "id": "e949d995",
   "metadata": {},
   "outputs": [
    {
     "name": "stdout",
     "output_type": "stream",
     "text": [
      "(1, 2, 3, 4, 5)\n"
     ]
    },
    {
     "ename": "TypeError",
     "evalue": "'tuple' object does not support item assignment",
     "output_type": "error",
     "traceback": [
      "\u001b[1;31m---------------------------------------------------------------------------\u001b[0m",
      "\u001b[1;31mTypeError\u001b[0m                                 Traceback (most recent call last)",
      "Input \u001b[1;32mIn [23]\u001b[0m, in \u001b[0;36m<cell line: 5>\u001b[1;34m()\u001b[0m\n\u001b[0;32m      2\u001b[0m a_tuple \u001b[38;5;241m=\u001b[39m (\u001b[38;5;241m1\u001b[39m,\u001b[38;5;241m2\u001b[39m,\u001b[38;5;241m3\u001b[39m,\u001b[38;5;241m4\u001b[39m,\u001b[38;5;241m5\u001b[39m)\n\u001b[0;32m      4\u001b[0m \u001b[38;5;28mprint\u001b[39m(a_tuple)\n\u001b[1;32m----> 5\u001b[0m a_tuple[\u001b[38;5;241m0\u001b[39m]\u001b[38;5;241m=\u001b[39m\u001b[38;5;241m10\u001b[39m\n",
      "\u001b[1;31mTypeError\u001b[0m: 'tuple' object does not support item assignment"
     ]
    }
   ],
   "source": [
    "# tuple 간단하게 만듬, 수정 불가\n",
    "a_tuple = (1,2,3,4,5)\n",
    "\n",
    "print(a_tuple)\n",
    "a_tuple[0]=10"
   ]
  },
  {
   "cell_type": "code",
   "execution_count": 26,
   "id": "454d7b34",
   "metadata": {},
   "outputs": [
    {
     "name": "stdout",
     "output_type": "stream",
     "text": [
      "200 100\n"
     ]
    }
   ],
   "source": [
    "a=100\n",
    "b=200\n",
    "c=b\n",
    "b=a\n",
    "a=c\n",
    "print(a,b)"
   ]
  },
  {
   "cell_type": "code",
   "execution_count": 29,
   "id": "87f44518",
   "metadata": {},
   "outputs": [
    {
     "name": "stdout",
     "output_type": "stream",
     "text": [
      "100 200\n"
     ]
    }
   ],
   "source": [
    "a,b=b,a\n",
    "print(a,b)"
   ]
  },
  {
   "cell_type": "code",
   "execution_count": 30,
   "id": "464aa887",
   "metadata": {},
   "outputs": [
    {
     "name": "stdout",
     "output_type": "stream",
     "text": [
      "{1: 'a', 'b': [1, 2, 3], 'c': 3}\n"
     ]
    }
   ],
   "source": [
    "#Dict\n",
    "a_dic = {1:'a', 'b':[1,2,3], 'c':3}\n",
    "print(a_dic)"
   ]
  },
  {
   "cell_type": "code",
   "execution_count": 33,
   "id": "f11f3528",
   "metadata": {},
   "outputs": [
    {
     "name": "stdout",
     "output_type": "stream",
     "text": [
      "a\n",
      "[1, 2, 3]\n",
      "3\n"
     ]
    }
   ],
   "source": [
    "print(a_dic[1])\n",
    "print(a_dic['b'])\n",
    "print(a_dic['c'])"
   ]
  },
  {
   "cell_type": "code",
   "execution_count": 35,
   "id": "ca3b7424",
   "metadata": {},
   "outputs": [
    {
     "name": "stdout",
     "output_type": "stream",
     "text": [
      "{1: 'a', 'b': [1, 2, 3], 'c': 3, 'd': 'Microsoft AI School'}\n"
     ]
    }
   ],
   "source": [
    "a_dic['d'] = 'Microsoft AI School'\n",
    "print(a_dic)"
   ]
  },
  {
   "cell_type": "code",
   "execution_count": 37,
   "id": "bad463dd",
   "metadata": {},
   "outputs": [
    {
     "name": "stdout",
     "output_type": "stream",
     "text": [
      "{1, 2, 3}\n",
      "<class 'set'>\n"
     ]
    }
   ],
   "source": [
    "# Set 중복, 순서 없음\n",
    "a_set = {1,2,3}\n",
    "print(a_set)\n",
    "print(type(a_set))"
   ]
  },
  {
   "cell_type": "code",
   "execution_count": 38,
   "id": "997c466f",
   "metadata": {},
   "outputs": [],
   "source": [
    "b_set = {3,4,5}"
   ]
  },
  {
   "cell_type": "code",
   "execution_count": 39,
   "id": "a9aacde2",
   "metadata": {},
   "outputs": [
    {
     "data": {
      "text/plain": [
       "{1, 2, 3, 4, 5}"
      ]
     },
     "execution_count": 39,
     "metadata": {},
     "output_type": "execute_result"
    }
   ],
   "source": [
    "#union은 합집합\n",
    "a_set.union(b_set)"
   ]
  },
  {
   "cell_type": "code",
   "execution_count": 40,
   "id": "77ce1cf4",
   "metadata": {},
   "outputs": [
    {
     "data": {
      "text/plain": [
       "{3}"
      ]
     },
     "execution_count": 40,
     "metadata": {},
     "output_type": "execute_result"
    }
   ],
   "source": [
    "#intersection은 교집합\n",
    "a_set.intersection(b_set)"
   ]
  },
  {
   "cell_type": "code",
   "execution_count": 41,
   "id": "7d6cc9e5",
   "metadata": {},
   "outputs": [
    {
     "data": {
      "text/plain": [
       "{1, 2}"
      ]
     },
     "execution_count": 41,
     "metadata": {},
     "output_type": "execute_result"
    }
   ],
   "source": [
    "#-는 차집합\n",
    "a_set - b_set"
   ]
  },
  {
   "cell_type": "code",
   "execution_count": 42,
   "id": "c9bb8bae",
   "metadata": {},
   "outputs": [
    {
     "data": {
      "text/plain": [
       "{1, 2, 3, 4, 5}"
      ]
     },
     "execution_count": 42,
     "metadata": {},
     "output_type": "execute_result"
    }
   ],
   "source": [
    "#or 조건\n",
    "a_set | b_set"
   ]
  },
  {
   "cell_type": "code",
   "execution_count": 43,
   "id": "700a7dbd",
   "metadata": {},
   "outputs": [
    {
     "data": {
      "text/plain": [
       "{3}"
      ]
     },
     "execution_count": 43,
     "metadata": {},
     "output_type": "execute_result"
    }
   ],
   "source": [
    "#and 조건\n",
    "a_set & b_set"
   ]
  },
  {
   "cell_type": "code",
   "execution_count": 44,
   "id": "3cce6ec4",
   "metadata": {},
   "outputs": [
    {
     "name": "stdout",
     "output_type": "stream",
     "text": [
      "<class 'set'>\n"
     ]
    }
   ],
   "source": [
    "# 부록\n",
    "a= set((1,2,3))\n",
    "print(type(a))"
   ]
  },
  {
   "cell_type": "code",
   "execution_count": 45,
   "id": "db9512b1",
   "metadata": {},
   "outputs": [
    {
     "name": "stdout",
     "output_type": "stream",
     "text": [
      "<class 'list'>\n"
     ]
    }
   ],
   "source": [
    "#타입 변환\n",
    "b = list(a)\n",
    "print(type(b))"
   ]
  },
  {
   "cell_type": "code",
   "execution_count": 46,
   "id": "1662807c",
   "metadata": {},
   "outputs": [
    {
     "name": "stdout",
     "output_type": "stream",
     "text": [
      "<class 'tuple'>\n"
     ]
    }
   ],
   "source": [
    "c = tuple(b)\n",
    "print(type(c))"
   ]
  },
  {
   "cell_type": "code",
   "execution_count": null,
   "id": "960e6122",
   "metadata": {},
   "outputs": [],
   "source": []
  }
 ],
 "metadata": {
  "kernelspec": {
   "display_name": "Python 3 (ipykernel)",
   "language": "python",
   "name": "python3"
  },
  "language_info": {
   "codemirror_mode": {
    "name": "ipython",
    "version": 3
   },
   "file_extension": ".py",
   "mimetype": "text/x-python",
   "name": "python",
   "nbconvert_exporter": "python",
   "pygments_lexer": "ipython3",
   "version": "3.9.12"
  }
 },
 "nbformat": 4,
 "nbformat_minor": 5
}
