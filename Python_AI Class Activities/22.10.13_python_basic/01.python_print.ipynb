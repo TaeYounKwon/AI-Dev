{
 "cells": [
  {
   "cell_type": "code",
   "execution_count": 2,
   "id": "cd926629",
   "metadata": {},
   "outputs": [
    {
     "name": "stdout",
     "output_type": "stream",
     "text": [
      "Hello World\n"
     ]
    }
   ],
   "source": [
    "print('Hello World')"
   ]
  },
  {
   "cell_type": "code",
   "execution_count": 3,
   "id": "8287f8e0",
   "metadata": {},
   "outputs": [
    {
     "name": "stdout",
     "output_type": "stream",
     "text": [
      "Hello \"World\"\n"
     ]
    }
   ],
   "source": [
    "print('Hello \"World\"')"
   ]
  },
  {
   "cell_type": "code",
   "execution_count": 5,
   "id": "9b618596",
   "metadata": {},
   "outputs": [
    {
     "name": "stdout",
     "output_type": "stream",
     "text": [
      "Hello 'World'\n"
     ]
    }
   ],
   "source": [
    "print(\"Hello 'World'\")\n",
    "    "
   ]
  },
  {
   "cell_type": "code",
   "execution_count": 6,
   "id": "25a73742",
   "metadata": {},
   "outputs": [
    {
     "name": "stdout",
     "output_type": "stream",
     "text": [
      "안녕 하세요 반갑습니다.\n"
     ]
    }
   ],
   "source": [
    "print('안녕','하세요','반갑습니다.')"
   ]
  },
  {
   "cell_type": "code",
   "execution_count": 7,
   "id": "ce640736",
   "metadata": {},
   "outputs": [
    {
     "name": "stdout",
     "output_type": "stream",
     "text": [
      "안녕하세요반갑습니다.\n"
     ]
    }
   ],
   "source": [
    "print('안녕'+'하세요'+'반갑습니다.')"
   ]
  },
  {
   "cell_type": "code",
   "execution_count": 8,
   "id": "80db241e",
   "metadata": {},
   "outputs": [
    {
     "name": "stdout",
     "output_type": "stream",
     "text": [
      "\n",
      "태양을 향새서라\n",
      "그리하면 너는 그림자를 볼 수 없을 것이다.\n",
      "\n",
      "-헬렌켈러\n",
      "\n",
      "\n"
     ]
    }
   ],
   "source": [
    "print(\"\"\"\n",
    "태양을 향새서라\n",
    "그리하면 너는 그림자를 볼 수 없을 것이다.\n",
    "\n",
    "-헬렌켈러\n",
    "\n",
    "\"\"\")"
   ]
  },
  {
   "cell_type": "code",
   "execution_count": 9,
   "id": "67d8cd0f",
   "metadata": {},
   "outputs": [
    {
     "name": "stdout",
     "output_type": "stream",
     "text": [
      "Hello \n",
      "nice to meet you!\n"
     ]
    }
   ],
   "source": [
    "print('Hello \\nnice to meet you!')"
   ]
  },
  {
   "cell_type": "code",
   "execution_count": 10,
   "id": "8c407cec",
   "metadata": {},
   "outputs": [
    {
     "name": "stdout",
     "output_type": "stream",
     "text": [
      "a=123 b=안녕하세요\n"
     ]
    }
   ],
   "source": [
    "a=123\n",
    "b='안녕하세요'\n",
    "print('a={} b={}'.format(a,b))"
   ]
  },
  {
   "cell_type": "code",
   "execution_count": 11,
   "id": "dc331e81",
   "metadata": {},
   "outputs": [
    {
     "name": "stdout",
     "output_type": "stream",
     "text": [
      "a=123 b=안녕하세요\n"
     ]
    }
   ],
   "source": [
    "a=123\n",
    "b='안녕하세요'\n",
    "print(f'a={a} b={b}')"
   ]
  },
  {
   "cell_type": "code",
   "execution_count": null,
   "id": "6a1d874d",
   "metadata": {},
   "outputs": [],
   "source": []
  }
 ],
 "metadata": {
  "kernelspec": {
   "display_name": "Python 3 (ipykernel)",
   "language": "python",
   "name": "python3"
  },
  "language_info": {
   "codemirror_mode": {
    "name": "ipython",
    "version": 3
   },
   "file_extension": ".py",
   "mimetype": "text/x-python",
   "name": "python",
   "nbconvert_exporter": "python",
   "pygments_lexer": "ipython3",
   "version": "3.9.12"
  }
 },
 "nbformat": 4,
 "nbformat_minor": 5
}
