{
 "cells": [
  {
   "cell_type": "code",
   "execution_count": 1,
   "id": "81661816",
   "metadata": {},
   "outputs": [
    {
     "name": "stdout",
     "output_type": "stream",
     "text": [
      "Hello World\n"
     ]
    }
   ],
   "source": [
    "print('Hello World')"
   ]
  },
  {
   "cell_type": "code",
   "execution_count": 2,
   "id": "8be1013f",
   "metadata": {},
   "outputs": [],
   "source": [
    "import sys"
   ]
  },
  {
   "cell_type": "code",
   "execution_count": 3,
   "id": "0ae914a3",
   "metadata": {},
   "outputs": [
    {
     "name": "stdout",
     "output_type": "stream",
     "text": [
      "Welcom to Python\n"
     ]
    }
   ],
   "source": [
    "print('Welcom to', 'Python')"
   ]
  },
  {
   "cell_type": "code",
   "execution_count": 4,
   "id": "c715a284",
   "metadata": {},
   "outputs": [
    {
     "name": "stderr",
     "output_type": "stream",
     "text": [
      "Welcom to Python\n"
     ]
    }
   ],
   "source": [
    "print('Welcom to', 'Python', file=sys.stderr) #에러메시지 표시"
   ]
  },
  {
   "cell_type": "code",
   "execution_count": 6,
   "id": "b7fb56e9",
   "metadata": {},
   "outputs": [],
   "source": [
    "f = open('test.txt', 'w') #파일열기, w는 쓰기모드"
   ]
  },
  {
   "cell_type": "code",
   "execution_count": 7,
   "id": "63ceb786",
   "metadata": {},
   "outputs": [],
   "source": [
    "print('file write', file=f) #메시지 넣기\n",
    "f.close() #파일 닫기"
   ]
  },
  {
   "cell_type": "markdown",
   "id": "bb4d8852",
   "metadata": {},
   "source": [
    "## File IO\n",
    "file 입출력을 다루다 보면 print를 사용 할 수 있지만 open을 사용하는게 좋다."
   ]
  },
  {
   "cell_type": "code",
   "execution_count": 8,
   "id": "d4d9a73b",
   "metadata": {},
   "outputs": [],
   "source": [
    "f = open('test.txt','w')\n",
    "f.write('plow deep\\nwhile sluggards sleep')\n",
    "f.close()"
   ]
  },
  {
   "cell_type": "code",
   "execution_count": 9,
   "id": "52e163bd",
   "metadata": {},
   "outputs": [
    {
     "data": {
      "text/plain": [
       "'plow deep\\nwhile sluggards sleep'"
      ]
     },
     "execution_count": 9,
     "metadata": {},
     "output_type": "execute_result"
    }
   ],
   "source": [
    "f = open('test.txt','r') #읽기 모드\n",
    "f.read()"
   ]
  },
  {
   "cell_type": "code",
   "execution_count": 10,
   "id": "5e09c016",
   "metadata": {},
   "outputs": [],
   "source": [
    "f.close()"
   ]
  },
  {
   "cell_type": "code",
   "execution_count": null,
   "id": "8b6341b0",
   "metadata": {},
   "outputs": [],
   "source": []
  }
 ],
 "metadata": {
  "kernelspec": {
   "display_name": "Python 3 (ipykernel)",
   "language": "python",
   "name": "python3"
  },
  "language_info": {
   "codemirror_mode": {
    "name": "ipython",
    "version": 3
   },
   "file_extension": ".py",
   "mimetype": "text/x-python",
   "name": "python",
   "nbconvert_exporter": "python",
   "pygments_lexer": "ipython3",
   "version": "3.9.12"
  }
 },
 "nbformat": 4,
 "nbformat_minor": 5
}
