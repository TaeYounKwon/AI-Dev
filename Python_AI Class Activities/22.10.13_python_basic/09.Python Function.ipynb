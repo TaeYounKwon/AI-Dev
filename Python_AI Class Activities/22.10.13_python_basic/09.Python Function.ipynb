{
 "cells": [
  {
   "cell_type": "code",
   "execution_count": 1,
   "id": "1dca923a",
   "metadata": {},
   "outputs": [],
   "source": [
    "def ReturnName():\n",
    "    print('My name is Lee')"
   ]
  },
  {
   "cell_type": "code",
   "execution_count": 2,
   "id": "6db12e98",
   "metadata": {},
   "outputs": [
    {
     "name": "stdout",
     "output_type": "stream",
     "text": [
      "My name is Lee\n"
     ]
    }
   ],
   "source": [
    "ReturnName()"
   ]
  },
  {
   "cell_type": "code",
   "execution_count": 3,
   "id": "bcecb2b4",
   "metadata": {},
   "outputs": [],
   "source": [
    "def ReturnName2(name):\n",
    "    print('My name is {}'.format(name)) #[]안에 입력값 넣음"
   ]
  },
  {
   "cell_type": "code",
   "execution_count": 4,
   "id": "4cc7b4da",
   "metadata": {},
   "outputs": [
    {
     "name": "stdout",
     "output_type": "stream",
     "text": [
      "My name is Kim\n"
     ]
    }
   ],
   "source": [
    "ReturnName2('Kim')"
   ]
  },
  {
   "cell_type": "code",
   "execution_count": 5,
   "id": "4c9a4653",
   "metadata": {},
   "outputs": [],
   "source": [
    "def calc(a, b):\n",
    "    c = a * b\n",
    "    return c #return은 함수의 결과, print는 화면에 글만 찍는것"
   ]
  },
  {
   "cell_type": "code",
   "execution_count": 7,
   "id": "d85baf11",
   "metadata": {},
   "outputs": [
    {
     "data": {
      "text/plain": [
       "1500"
      ]
     },
     "execution_count": 7,
     "metadata": {},
     "output_type": "execute_result"
    }
   ],
   "source": [
    "calc(3,5)*100"
   ]
  },
  {
   "cell_type": "code",
   "execution_count": 8,
   "id": "3b30f168",
   "metadata": {},
   "outputs": [
    {
     "data": {
      "text/plain": [
       "<function __main__.calc(a, b)>"
      ]
     },
     "execution_count": 8,
     "metadata": {},
     "output_type": "execute_result"
    }
   ],
   "source": [
    "calc #함수는 메모리를 사용한다"
   ]
  },
  {
   "cell_type": "code",
   "execution_count": 9,
   "id": "714eb999",
   "metadata": {},
   "outputs": [
    {
     "data": {
      "text/plain": [
       "3024355681616"
      ]
     },
     "execution_count": 9,
     "metadata": {},
     "output_type": "execute_result"
    }
   ],
   "source": [
    "id(calc) #id는 위치를 알고 싶을 때"
   ]
  },
  {
   "cell_type": "code",
   "execution_count": null,
   "id": "2db8803b",
   "metadata": {},
   "outputs": [],
   "source": []
  }
 ],
 "metadata": {
  "kernelspec": {
   "display_name": "Python 3 (ipykernel)",
   "language": "python",
   "name": "python3"
  },
  "language_info": {
   "codemirror_mode": {
    "name": "ipython",
    "version": 3
   },
   "file_extension": ".py",
   "mimetype": "text/x-python",
   "name": "python",
   "nbconvert_exporter": "python",
   "pygments_lexer": "ipython3",
   "version": "3.9.12"
  }
 },
 "nbformat": 4,
 "nbformat_minor": 5
}
