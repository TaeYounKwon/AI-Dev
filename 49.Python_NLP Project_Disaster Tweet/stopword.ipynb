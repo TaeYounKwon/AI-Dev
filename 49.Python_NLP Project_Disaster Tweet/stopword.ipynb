{
 "cells": [
  {
   "cell_type": "code",
   "execution_count": 1,
   "metadata": {},
   "outputs": [],
   "source": [
    "from sklearn.linear_model import LogisticRegression\n",
    "from sklearn.model_selection import train_test_split\n",
    "from sklearn.feature_extraction.text import TfidfVectorizer\n",
    "from sklearn.metrics import classification_report, accuracy_score\n",
    "\n",
    "import string\n",
    "import nltk\n",
    "import re # <- 정규 표현식 re.compile 사용을 위해 라이브러리 사용\n",
    "from nltk.corpus import stopwords # I, AM, IS, NOT, AN, A 등 수량이나 중요하지 않은 문법적 용어 제거\n",
    "from nltk.tokenize import word_tokenize # 영어 단어 토큰을 가져옴 \n",
    "from nltk.stem import PorterStemmer # 단어를 원형으로 표현하기 위해, Eating -> eat, ate -> eat 바꿔줌"
   ]
  },
  {
   "cell_type": "code",
   "execution_count": 10,
   "metadata": {},
   "outputs": [],
   "source": [
    "example = \"I'm learning nltk to prepare to find a job related to Natural Language Processing or other AI system\"\n",
    "s_words = set(stopwords.words('english'))"
   ]
  },
  {
   "cell_type": "code",
   "execution_count": 11,
   "metadata": {},
   "outputs": [],
   "source": [
    "word_tokens = word_tokenize(example)\n",
    "result = []\n",
    "for word in word_tokens:\n",
    "    if word not in s_words:\n",
    "        result.append(word)\n"
   ]
  },
  {
   "cell_type": "code",
   "execution_count": 12,
   "metadata": {},
   "outputs": [
    {
     "name": "stdout",
     "output_type": "stream",
     "text": [
      "before:  ['I', \"'m\", 'learning', 'nltk', 'to', 'prepare', 'to', 'find', 'a', 'job', 'related', 'to', 'Natural', 'Language', 'Processing', 'or', 'other', 'AI', 'system']\n",
      "after:  ['I', \"'m\", 'learning', 'nltk', 'prepare', 'find', 'job', 'related', 'Natural', 'Language', 'Processing', 'AI', 'system']\n"
     ]
    }
   ],
   "source": [
    "print('before: ', word_tokens)\n",
    "print('after: ', result)"
   ]
  },
  {
   "cell_type": "code",
   "execution_count": 13,
   "metadata": {},
   "outputs": [],
   "source": [
    "def preprocessing(text):\n",
    "    text = text.lower() # <- 단어를 소문자로\n",
    "    pattern = re.compile('[^a-z]') # 특수문자&숫자 삭제\n",
    "    words = nltk.word_tokenize(text) # \n",
    "    stop_words = set(nltk.corpus.stopwords.words('english'))\n",
    "    words = [PorterStemmer().stem(word) for word in words if word.lower() not in stop_words] \n",
    "    preprocessed_text = ' '.join(words)\n",
    "    return preprocessed_text"
   ]
  },
  {
   "cell_type": "code",
   "execution_count": 9,
   "metadata": {},
   "outputs": [
    {
     "name": "stdout",
     "output_type": "stream",
     "text": [
      "i\n",
      "'m\n",
      "learn\n",
      "nltk\n",
      "prepar\n",
      "find\n",
      "job\n",
      "relat\n",
      "natur\n",
      "languag\n",
      "process\n",
      "ai\n",
      "systesm\n"
     ]
    }
   ],
   "source": [
    "# 영단어를 원형으로 바꿔주는 작업\n",
    "ps = PorterStemmer()\n",
    "for word in result:\n",
    "    print (ps.stem(word))"
   ]
  },
  {
   "cell_type": "code",
   "execution_count": null,
   "metadata": {},
   "outputs": [],
   "source": []
  }
 ],
 "metadata": {
  "kernelspec": {
   "display_name": "base",
   "language": "python",
   "name": "python3"
  },
  "language_info": {
   "codemirror_mode": {
    "name": "ipython",
    "version": 3
   },
   "file_extension": ".py",
   "mimetype": "text/x-python",
   "name": "python",
   "nbconvert_exporter": "python",
   "pygments_lexer": "ipython3",
   "version": "3.9.12"
  },
  "orig_nbformat": 4
 },
 "nbformat": 4,
 "nbformat_minor": 2
}
