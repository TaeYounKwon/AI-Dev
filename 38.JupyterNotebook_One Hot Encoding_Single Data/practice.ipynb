{
 "cells": [
  {
   "cell_type": "markdown",
   "metadata": {},
   "source": [
    "# 순서가 없는 범주형 특성 인코딩\n",
    "\n",
    "Using LabelBinarizer from sklearn to encode the words data"
   ]
  },
  {
   "cell_type": "code",
   "execution_count": 1,
   "metadata": {},
   "outputs": [],
   "source": [
    "import numpy as np\n",
    "from sklearn.preprocessing import OneHotEncoder\n",
    "from sklearn.preprocessing import LabelBinarizer"
   ]
  },
  {
   "cell_type": "code",
   "execution_count": 4,
   "metadata": {},
   "outputs": [
    {
     "data": {
      "text/plain": [
       "array([['Texas'],\n",
       "       ['California'],\n",
       "       ['Oregon'],\n",
       "       ['Washington'],\n",
       "       ['Oregon'],\n",
       "       ['Nevada']], dtype='<U10')"
      ]
     },
     "execution_count": 4,
     "metadata": {},
     "output_type": "execute_result"
    }
   ],
   "source": [
    "feature = np.array([[\"Texas\"], [\"California\"], [\"Oregon\"], [\"Washington\"],[\"Oregon\"], [\"Nevada\"]]) # 특성 데이터 생성\n",
    "feature"
   ]
  },
  {
   "cell_type": "code",
   "execution_count": 6,
   "metadata": {},
   "outputs": [
    {
     "data": {
      "text/plain": [
       "array(['California', 'Nevada', 'Oregon', 'Texas', 'Washington'],\n",
       "      dtype='<U10')"
      ]
     },
     "execution_count": 6,
     "metadata": {},
     "output_type": "execute_result"
    }
   ],
   "source": [
    "# Create One-hot Encoder\n",
    "one_hot = LabelBinarizer()\n",
    "one_hot.fit_transform(feature)\n",
    "one_hot.classes_"
   ]
  },
  {
   "cell_type": "markdown",
   "metadata": {},
   "source": [
    "중복되는 자료인 Oregon이 사라진 걸 확인 할 수 있음!"
   ]
  },
  {
   "cell_type": "code",
   "execution_count": 10,
   "metadata": {},
   "outputs": [
    {
     "name": "stdout",
     "output_type": "stream",
     "text": [
      "one_hot >> ['Texas' 'California' 'Oregon' 'Washington' 'Oregon' 'Nevada']\n"
     ]
    }
   ],
   "source": [
    "one_hot_data = one_hot.inverse_transform(one_hot.transform(feature))\n",
    "print(\"one_hot >>\", one_hot_data)"
   ]
  },
  {
   "cell_type": "markdown",
   "metadata": {},
   "source": [
    "['Texas'],\n",
    "\n",
    "['California'],\n",
    "\n",
    "['Oregon'],\n",
    "\n",
    "['Washington'],\n",
    "\n",
    "['Oregon'],\n",
    "\n",
    "['Nevada']\n",
    "\n",
    "이런 형태의 데이터에서\n",
    "\n",
    " ['Texas' 'California' 'Oregon' 'Washington' 'Oregon' 'Nevada']\n"
   ]
  }
 ],
 "metadata": {
  "kernelspec": {
   "display_name": "Python 3.10.5 64-bit",
   "language": "python",
   "name": "python3"
  },
  "language_info": {
   "codemirror_mode": {
    "name": "ipython",
    "version": 3
   },
   "file_extension": ".py",
   "mimetype": "text/x-python",
   "name": "python",
   "nbconvert_exporter": "python",
   "pygments_lexer": "ipython3",
   "version": "3.10.5"
  },
  "orig_nbformat": 4,
  "vscode": {
   "interpreter": {
    "hash": "e89c93e4c07d4ac8f065cea982a638287e1c61026788fcbbad7e0263e2130583"
   }
  }
 },
 "nbformat": 4,
 "nbformat_minor": 2
}
