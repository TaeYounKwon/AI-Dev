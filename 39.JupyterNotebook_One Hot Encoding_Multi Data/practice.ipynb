{
 "cells": [
  {
   "cell_type": "markdown",
   "metadata": {},
   "source": [
    "# 순서가 없는 범주형 특성 인코딩\n",
    "\n",
    "Using MultiLabelBinarizer from sklearn to encode the words data"
   ]
  },
  {
   "cell_type": "code",
   "execution_count": 1,
   "metadata": {},
   "outputs": [],
   "source": [
    "import numpy as np\n",
    "from sklearn.preprocessing import OneHotEncoder\n",
    "from sklearn.preprocessing import MultiLabelBinarizer"
   ]
  },
  {
   "cell_type": "code",
   "execution_count": 4,
   "metadata": {},
   "outputs": [
    {
     "data": {
      "text/plain": [
       "[('Texas', 'Florida'),\n",
       " ('California', 'NewYork'),\n",
       " ('Oregon', 'Denver'),\n",
       " ('Washington', 'Ahrizona'),\n",
       " ('Oregon', 'California'),\n",
       " ('Nevada', 'Alabama')]"
      ]
     },
     "execution_count": 4,
     "metadata": {},
     "output_type": "execute_result"
    }
   ],
   "source": [
    "feature = [(\"Texas\",\"Florida\"),(\"California\",\"NewYork\"), (\"Oregon\",\"Denver\"), (\"Washington\",\"Ahrizona\"),(\"Oregon\",\"California\"), (\"Nevada\",\"Alabama\")] # 특성 데이터 생성\n",
    "feature"
   ]
  },
  {
   "cell_type": "code",
   "execution_count": 6,
   "metadata": {},
   "outputs": [
    {
     "data": {
      "text/plain": [
       "array(['Ahrizona', 'Alabama', 'California', 'Denver', 'Florida', 'Nevada',\n",
       "       'NewYork', 'Oregon', 'Texas', 'Washington'], dtype=object)"
      ]
     },
     "execution_count": 6,
     "metadata": {},
     "output_type": "execute_result"
    }
   ],
   "source": [
    "# Create Multi Class One-hot Encoder\n",
    "one_hot = MultiLabelBinarizer()\n",
    "one_hot.fit_transform(feature)\n",
    "one_hot.classes_"
   ]
  },
  {
   "cell_type": "markdown",
   "metadata": {},
   "source": [
    "중복된 데이터 값들이 사라진 걸 확인 할 수 있음!"
   ]
  },
  {
   "cell_type": "code",
   "execution_count": 7,
   "metadata": {},
   "outputs": [
    {
     "name": "stdout",
     "output_type": "stream",
     "text": [
      "one_hot >> [('Florida', 'Texas'), ('California', 'NewYork'), ('Denver', 'Oregon'), ('Ahrizona', 'Washington'), ('California', 'Oregon'), ('Alabama', 'Nevada')]\n"
     ]
    }
   ],
   "source": [
    "one_hot_data = one_hot.inverse_transform(one_hot.transform(feature))\n",
    "print(\"one_hot >>\", one_hot_data)"
   ]
  }
 ],
 "metadata": {
  "kernelspec": {
   "display_name": "Python 3.10.5 64-bit",
   "language": "python",
   "name": "python3"
  },
  "language_info": {
   "codemirror_mode": {
    "name": "ipython",
    "version": 3
   },
   "file_extension": ".py",
   "mimetype": "text/x-python",
   "name": "python",
   "nbconvert_exporter": "python",
   "pygments_lexer": "ipython3",
   "version": "3.10.5"
  },
  "orig_nbformat": 4,
  "vscode": {
   "interpreter": {
    "hash": "e89c93e4c07d4ac8f065cea982a638287e1c61026788fcbbad7e0263e2130583"
   }
  }
 },
 "nbformat": 4,
 "nbformat_minor": 2
}
