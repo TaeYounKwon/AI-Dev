{
 "cells": [
  {
   "cell_type": "code",
   "execution_count": 2,
   "metadata": {},
   "outputs": [],
   "source": [
    "from sklearn import datasets\n",
    "from sklearn.discriminant_analysis import LinearDiscriminantAnalysis"
   ]
  },
  {
   "cell_type": "code",
   "execution_count": 3,
   "metadata": {},
   "outputs": [],
   "source": [
    "iris = datasets.load_iris()\n",
    "features = iris.data\n",
    "target = iris.target"
   ]
  },
  {
   "cell_type": "code",
   "execution_count": 4,
   "metadata": {},
   "outputs": [],
   "source": [
    "# LDA 객체 만들고 실행하여 특성을 변환\n",
    "lda = LinearDiscriminantAnalysis(n_components=None)\n",
    "features_lda = lda.fit(features, target)"
   ]
  },
  {
   "cell_type": "code",
   "execution_count": 6,
   "metadata": {},
   "outputs": [
    {
     "name": "stdout",
     "output_type": "stream",
     "text": [
      "[0.9912126 0.0087874]\n"
     ]
    }
   ],
   "source": [
    "#설명된 분산의 비율이 담긴 배열을 저장\n",
    "lda_var_ratios = lda.explained_variance_ratio_\n",
    "print(lda_var_ratios)"
   ]
  },
  {
   "cell_type": "code",
   "execution_count": 9,
   "metadata": {},
   "outputs": [],
   "source": [
    "def select_n_components(var_ratio, goal_var: float) -> int:\n",
    "    total_variances = 0.0 # 설명된 분산의 초기값을 지정\n",
    "    n_components = 0 # 특성 개수의 초기값을 지정\n",
    "    \n",
    "    for explained_variance in var_ratio : # 각 특성의 성명된 분산을 순회 Loop\n",
    "        total_variances += explained_variance # 설명된 분산 값을 누적\n",
    "        n_components += 1 # 성분 개수를 카운트\n",
    "        \n",
    "        if total_variances>= goal_var: # 설명된 분산이 목표치에 도달하면 반복을 종료\n",
    "            break\n",
    "        \n",
    "    return n_components\n"
   ]
  },
  {
   "cell_type": "code",
   "execution_count": 13,
   "metadata": {},
   "outputs": [
    {
     "name": "stdout",
     "output_type": "stream",
     "text": [
      "tmp=  1\n"
     ]
    }
   ],
   "source": [
    "tmp = select_n_components(lda_var_ratios, 0.95)\n",
    "print(\"tmp= \", tmp)"
   ]
  }
 ],
 "metadata": {
  "kernelspec": {
   "display_name": "Python 3.10.5 64-bit",
   "language": "python",
   "name": "python3"
  },
  "language_info": {
   "codemirror_mode": {
    "name": "ipython",
    "version": 3
   },
   "file_extension": ".py",
   "mimetype": "text/x-python",
   "name": "python",
   "nbconvert_exporter": "python",
   "pygments_lexer": "ipython3",
   "version": "3.10.5"
  },
  "orig_nbformat": 4,
  "vscode": {
   "interpreter": {
    "hash": "e89c93e4c07d4ac8f065cea982a638287e1c61026788fcbbad7e0263e2130583"
   }
  }
 },
 "nbformat": 4,
 "nbformat_minor": 2
}
