{
 "cells": [
  {
   "cell_type": "code",
   "execution_count": 2,
   "metadata": {},
   "outputs": [],
   "source": [
    "# 선형적으로 구분되지 않은 데이터 차원 축소\n",
    "# Import all the necessary Library\n",
    "from sklearn.decomposition import KernelPCA\n",
    "from sklearn.datasets import make_circles"
   ]
  },
  {
   "cell_type": "code",
   "execution_count": 4,
   "metadata": {},
   "outputs": [
    {
     "name": "stdout",
     "output_type": "stream",
     "text": [
      "[[ 0.23058395 -0.10671314]\n",
      " [-0.0834218  -0.22647078]\n",
      " [ 0.9246533  -0.71492522]\n",
      " ...\n",
      " [ 0.02517206  0.00964548]\n",
      " [-0.92836187  0.06693357]\n",
      " [ 1.03502248  0.54878286]]\n"
     ]
    }
   ],
   "source": [
    "# 선형적으로 구분되지 않느 데이터 생성\n",
    "# Create the dataset that are not a linear model\n",
    "# By using make_circles, can create the datasets that are like circle coordinate\n",
    "features, _ = make_circles(n_samples=1000, random_state=1, noise=0.1, factor=0.1 )\n",
    "print(features)\n"
   ]
  },
  {
   "cell_type": "code",
   "execution_count": 6,
   "metadata": {},
   "outputs": [],
   "source": [
    "# 방사 기저 함수(radius basis function, RBF)를 사용하여 커널에 PCA 적용\n",
    "kpca = KernelPCA(kernel=\"rbf\", gamma=15, n_components=1)\n",
    "features_kpca = kpca.fit_transform(features)"
   ]
  },
  {
   "cell_type": "markdown",
   "metadata": {},
   "source": [
    "참조! => KernelPCA 여러 방법들이 많이 있음, 그중\n",
    "rbf = 가우시안 방사"
   ]
  },
  {
   "cell_type": "code",
   "execution_count": 7,
   "metadata": {},
   "outputs": [
    {
     "name": "stdout",
     "output_type": "stream",
     "text": [
      "Number of Original Feature:  2\n",
      "Number of Reduced Feature:  1\n"
     ]
    }
   ],
   "source": [
    "print(\"Number of Original Feature: \", features.shape[1])\n",
    "print(\"Number of Reduced Feature: \", features_kpca.shape[1])\n"
   ]
  },
  {
   "cell_type": "code",
   "execution_count": null,
   "metadata": {},
   "outputs": [],
   "source": []
  }
 ],
 "metadata": {
  "kernelspec": {
   "display_name": "Python 3.10.5 64-bit",
   "language": "python",
   "name": "python3"
  },
  "language_info": {
   "codemirror_mode": {
    "name": "ipython",
    "version": 3
   },
   "file_extension": ".py",
   "mimetype": "text/x-python",
   "name": "python",
   "nbconvert_exporter": "python",
   "pygments_lexer": "ipython3",
   "version": "3.10.5"
  },
  "orig_nbformat": 4,
  "vscode": {
   "interpreter": {
    "hash": "e89c93e4c07d4ac8f065cea982a638287e1c61026788fcbbad7e0263e2130583"
   }
  }
 },
 "nbformat": 4,
 "nbformat_minor": 2
}
