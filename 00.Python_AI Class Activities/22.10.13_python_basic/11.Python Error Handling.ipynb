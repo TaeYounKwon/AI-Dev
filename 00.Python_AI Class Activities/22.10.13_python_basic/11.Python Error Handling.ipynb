{
 "cells": [
  {
   "cell_type": "code",
   "execution_count": 1,
   "id": "523d7cdd",
   "metadata": {},
   "outputs": [
    {
     "ename": "ZeroDivisionError",
     "evalue": "division by zero",
     "output_type": "error",
     "traceback": [
      "\u001b[1;31m---------------------------------------------------------------------------\u001b[0m",
      "\u001b[1;31mZeroDivisionError\u001b[0m                         Traceback (most recent call last)",
      "Input \u001b[1;32mIn [1]\u001b[0m, in \u001b[0;36m<cell line: 2>\u001b[1;34m()\u001b[0m\n\u001b[0;32m      1\u001b[0m \u001b[38;5;66;03m#예외 처리\u001b[39;00m\n\u001b[1;32m----> 2\u001b[0m a \u001b[38;5;241m=\u001b[39m \u001b[38;5;241;43m12\u001b[39;49m\u001b[43m \u001b[49m\u001b[38;5;241;43m/\u001b[39;49m\u001b[43m \u001b[49m\u001b[38;5;241;43m0\u001b[39;49m\n",
      "\u001b[1;31mZeroDivisionError\u001b[0m: division by zero"
     ]
    }
   ],
   "source": [
    "#예외 처리\n",
    "a = 12 / 0"
   ]
  },
  {
   "cell_type": "code",
   "execution_count": 2,
   "id": "a07819b5",
   "metadata": {},
   "outputs": [
    {
     "name": "stdout",
     "output_type": "stream",
     "text": [
      "Error!!!\n"
     ]
    }
   ],
   "source": [
    "try: \n",
    "    a = 12/0 #에러 입력\n",
    "except:\n",
    "    print('Error!!!') #에러 처리"
   ]
  },
  {
   "cell_type": "code",
   "execution_count": 3,
   "id": "21372640",
   "metadata": {},
   "outputs": [],
   "source": [
    "try: \n",
    "    a = 12/0\n",
    "except:\n",
    "    pass #에러가 발생하지만 넘어감"
   ]
  },
  {
   "cell_type": "code",
   "execution_count": 4,
   "id": "7c6ca612",
   "metadata": {},
   "outputs": [
    {
     "name": "stdout",
     "output_type": "stream",
     "text": [
      "에러의 원인은? division by zero\n"
     ]
    }
   ],
   "source": [
    "try: \n",
    "    a = 12/0\n",
    "except Exception as e:\n",
    "    print('에러의 원인은?', e) #에러의 원인 출력"
   ]
  },
  {
   "cell_type": "code",
   "execution_count": null,
   "id": "a4b3a7bf",
   "metadata": {},
   "outputs": [],
   "source": []
  }
 ],
 "metadata": {
  "kernelspec": {
   "display_name": "Python 3 (ipykernel)",
   "language": "python",
   "name": "python3"
  },
  "language_info": {
   "codemirror_mode": {
    "name": "ipython",
    "version": 3
   },
   "file_extension": ".py",
   "mimetype": "text/x-python",
   "name": "python",
   "nbconvert_exporter": "python",
   "pygments_lexer": "ipython3",
   "version": "3.9.12"
  }
 },
 "nbformat": 4,
 "nbformat_minor": 5
}
