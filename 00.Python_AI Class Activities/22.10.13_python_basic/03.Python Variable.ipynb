{
 "cells": [
  {
   "cell_type": "code",
   "execution_count": 8,
   "id": "0272f39c",
   "metadata": {},
   "outputs": [
    {
     "name": "stdout",
     "output_type": "stream",
     "text": [
      "20\n"
     ]
    }
   ],
   "source": [
    "a=10\n",
    "b=10\n",
    "c=a+b\n",
    "print(c)"
   ]
  },
  {
   "cell_type": "code",
   "execution_count": 9,
   "id": "3004e90e",
   "metadata": {},
   "outputs": [
    {
     "ename": "TypeError",
     "evalue": "unsupported operand type(s) for +: 'int' and 'str'",
     "output_type": "error",
     "traceback": [
      "\u001b[1;31m---------------------------------------------------------------------------\u001b[0m",
      "\u001b[1;31mTypeError\u001b[0m                                 Traceback (most recent call last)",
      "Input \u001b[1;32mIn [9]\u001b[0m, in \u001b[0;36m<cell line: 2>\u001b[1;34m()\u001b[0m\n\u001b[0;32m      1\u001b[0m d\u001b[38;5;241m=\u001b[39m\u001b[38;5;124m'\u001b[39m\u001b[38;5;124m10\u001b[39m\u001b[38;5;124m'\u001b[39m\n\u001b[1;32m----> 2\u001b[0m \u001b[38;5;28mprint\u001b[39m(\u001b[43mc\u001b[49m\u001b[38;5;241;43m+\u001b[39;49m\u001b[43md\u001b[49m)\n",
      "\u001b[1;31mTypeError\u001b[0m: unsupported operand type(s) for +: 'int' and 'str'"
     ]
    }
   ],
   "source": [
    "d='10'\n",
    "print(c+d)"
   ]
  },
  {
   "cell_type": "code",
   "execution_count": 10,
   "id": "9bac82e7",
   "metadata": {},
   "outputs": [
    {
     "name": "stdout",
     "output_type": "stream",
     "text": [
      "30\n"
     ]
    }
   ],
   "source": [
    "print(c+int(d))"
   ]
  },
  {
   "cell_type": "code",
   "execution_count": 11,
   "id": "fd145502",
   "metadata": {},
   "outputs": [
    {
     "name": "stdout",
     "output_type": "stream",
     "text": [
      "2010\n"
     ]
    }
   ],
   "source": [
    "print(str(c)+d)"
   ]
  },
  {
   "cell_type": "code",
   "execution_count": 12,
   "id": "e7d0504b",
   "metadata": {},
   "outputs": [
    {
     "name": "stdout",
     "output_type": "stream",
     "text": [
      "13.14\n"
     ]
    }
   ],
   "source": [
    "e=3.14\n",
    "f=10\n",
    "print(e+f)"
   ]
  },
  {
   "cell_type": "code",
   "execution_count": 13,
   "id": "9b10ce21",
   "metadata": {},
   "outputs": [
    {
     "name": "stdout",
     "output_type": "stream",
     "text": [
      "13.0\n"
     ]
    }
   ],
   "source": [
    "e=3.0\n",
    "f=10\n",
    "print(e+f)"
   ]
  },
  {
   "cell_type": "code",
   "execution_count": 14,
   "id": "6127a8f9",
   "metadata": {},
   "outputs": [
    {
     "name": "stdout",
     "output_type": "stream",
     "text": [
      "20.0\n"
     ]
    }
   ],
   "source": [
    "a=10\n",
    "b=10\n",
    "c=float(a)+float(b)\n",
    "\n",
    "print(c)"
   ]
  },
  {
   "cell_type": "code",
   "execution_count": 1,
   "id": "9fa09d3d",
   "metadata": {},
   "outputs": [
    {
     "name": "stdout",
     "output_type": "stream",
     "text": [
      "True\n",
      "False\n",
      "<class 'bool'>\n",
      "<class 'bool'>\n",
      "1\n",
      "0\n",
      "<class 'int'>\n",
      "<class 'int'>\n",
      "True\n",
      "False\n"
     ]
    }
   ],
   "source": [
    "a_bool = True\n",
    "b_bool = False\n",
    "\n",
    "a_int = 1\n",
    "b_int = 0\n",
    "\n",
    "print(a_bool)\n",
    "print(b_bool)\n",
    "print(type(a_bool)) #type 입력 시 해당 형을 알 수있다.\n",
    "print(type(b_bool))\n",
    "print(a_int)\n",
    "print(b_int)\n",
    "print(type(a_int))\n",
    "print(type(b_int))\n",
    "\n",
    "print(bool(a_int))\n",
    "print(bool(b_int))"
   ]
  },
  {
   "cell_type": "code",
   "execution_count": null,
   "id": "31e54a6c",
   "metadata": {},
   "outputs": [],
   "source": []
  }
 ],
 "metadata": {
  "kernelspec": {
   "display_name": "Python 3 (ipykernel)",
   "language": "python",
   "name": "python3"
  },
  "language_info": {
   "codemirror_mode": {
    "name": "ipython",
    "version": 3
   },
   "file_extension": ".py",
   "mimetype": "text/x-python",
   "name": "python",
   "nbconvert_exporter": "python",
   "pygments_lexer": "ipython3",
   "version": "3.9.12"
  }
 },
 "nbformat": 4,
 "nbformat_minor": 5
}
