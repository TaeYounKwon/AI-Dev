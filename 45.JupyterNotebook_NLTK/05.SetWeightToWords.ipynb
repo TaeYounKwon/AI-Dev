{
 "cells": [
  {
   "cell_type": "markdown",
   "metadata": {},
   "source": [
    "# 단어 중요도에 가중치 부여하기\n",
    "\n",
    "1. TfidVectorizer: tf-idf(단어 빈도 - 역문서 빈도)를 사용해 트윗, 영화 리뷰, 연설문 등 하나의 문서에 등장하는 단어의 빈도와 다른 모든 문서에 등장하는 빈도를 비교\n",
    "2. tf(단어빈도): 한 문서에 어떤 단어가 많이 등장할수록 그 문서에 더 중요한 단어\n",
    "3. df(문서빈도): 한 단어가 많은 문서에 나타나면 이는 어떤 특정 문서에 중요하지 않는 단어\n",
    "4. tf와 df 두 통계치를 연결하여 각 문서가 문서에 얼마나 중요한 단어인지를 점수로 할당"
   ]
  },
  {
   "cell_type": "code",
   "execution_count": 1,
   "metadata": {},
   "outputs": [],
   "source": [
    "# 단어 중요도에 가중치 부여하기\n",
    "import numpy as np\n",
    "from sklearn.feature_extraction.text import TfidfVectorizer\n",
    "import warnings\n",
    "warnings.filterwarnings('ignore')"
   ]
  },
  {
   "cell_type": "code",
   "execution_count": 2,
   "metadata": {},
   "outputs": [],
   "source": [
    "text_data = np.array(\n",
    "    ['I love Brazil. Brazil!', 'Sweden is best', 'Germany beats both'])"
   ]
  },
  {
   "cell_type": "code",
   "execution_count": 3,
   "metadata": {},
   "outputs": [],
   "source": [
    "# tf-idf 특성 행렬을 만듭니다.\n",
    "tfidf = TfidfVectorizer()\n",
    "feature_matrix = tfidf.fit_transform(text_data)"
   ]
  },
  {
   "cell_type": "code",
   "execution_count": 4,
   "metadata": {},
   "outputs": [
    {
     "data": {
      "text/plain": [
       "<3x8 sparse matrix of type '<class 'numpy.float64'>'\n",
       "\twith 8 stored elements in Compressed Sparse Row format>"
      ]
     },
     "execution_count": 4,
     "metadata": {},
     "output_type": "execute_result"
    }
   ],
   "source": [
    " # tf-idf 특성 행렬을 밀집 배열로 확인\n",
    "feature_matrix.toarray() \n",
    "feature_matrix"
   ]
  },
  {
   "cell_type": "code",
   "execution_count": 5,
   "metadata": {},
   "outputs": [
    {
     "name": "stdout",
     "output_type": "stream",
     "text": [
      "... {'love': 6, 'brazil': 3, 'sweden': 7, 'is': 5, 'best': 1, 'germany': 4, 'beats': 0, 'both': 2}\n"
     ]
    }
   ],
   "source": [
    "# 특성 이름 을 확인\n",
    "tf = tfidf.vocabulary_\n",
    "print(\"...\", tf)"
   ]
  },
  {
   "cell_type": "code",
   "execution_count": 6,
   "metadata": {},
   "outputs": [],
   "source": [
    "text_data = np.array(\n",
    "    ['During the World Cup Season 2022, South Korea beats Portugal', 'But Gana beats South Korea', 'Korea tied to Uruguay', 'Uruguay and Gana could not made to top sixteen'])"
   ]
  },
  {
   "cell_type": "code",
   "execution_count": 7,
   "metadata": {},
   "outputs": [
    {
     "name": "stdout",
     "output_type": "stream",
     "text": [
      "... {'during': 6, 'the': 15, 'world': 20, 'cup': 5, 'season': 12, '2022': 0, 'south': 14, 'korea': 8, 'beats': 2, 'portugal': 11, 'but': 3, 'gana': 7, 'tied': 16, 'to': 17, 'uruguay': 19, 'and': 1, 'could': 4, 'not': 10, 'made': 9, 'top': 18, 'sixteen': 13}\n"
     ]
    }
   ],
   "source": [
    "tfidf = TfidfVectorizer()\n",
    "feature_matrix = tfidf.fit_transform(text_data)\n",
    "feature_matrix.toarray() \n",
    "feature_matrix\n",
    "tf = tfidf.vocabulary_\n",
    "print(\"...\", tf)"
   ]
  }
 ],
 "metadata": {
  "kernelspec": {
   "display_name": "Python 3.10.5 64-bit",
   "language": "python",
   "name": "python3"
  },
  "language_info": {
   "codemirror_mode": {
    "name": "ipython",
    "version": 3
   },
   "file_extension": ".py",
   "mimetype": "text/x-python",
   "name": "python",
   "nbconvert_exporter": "python",
   "pygments_lexer": "ipython3",
   "version": "3.10.5"
  },
  "orig_nbformat": 4,
  "vscode": {
   "interpreter": {
    "hash": "e89c93e4c07d4ac8f065cea982a638287e1c61026788fcbbad7e0263e2130583"
   }
  }
 },
 "nbformat": 4,
 "nbformat_minor": 2
}
