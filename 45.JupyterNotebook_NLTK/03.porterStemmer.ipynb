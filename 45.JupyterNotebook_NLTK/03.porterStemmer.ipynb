{
 "cells": [
  {
   "cell_type": "code",
   "execution_count": 5,
   "metadata": {},
   "outputs": [],
   "source": [
    "from nltk.stem.porter import PorterStemmer\n",
    "import warnings\n",
    "warnings.filterwarnings('ignore')"
   ]
  },
  {
   "cell_type": "code",
   "execution_count": 6,
   "metadata": {},
   "outputs": [],
   "source": [
    "# 단어 토큰을 만들기\n",
    "tokneized_words = ['i', 'am',  'humbled',\n",
    "                   'by', 'this', 'traditional', 'meeting']"
   ]
  },
  {
   "cell_type": "code",
   "execution_count": 7,
   "metadata": {},
   "outputs": [],
   "source": [
    "# 어간 추출기를 만들기\n",
    "porter = PorterStemmer()"
   ]
  },
  {
   "cell_type": "code",
   "execution_count": 8,
   "metadata": {},
   "outputs": [],
   "source": [
    "word_list = []\n",
    "# 어간 추출기를 적용합니다.\n",
    "for word in tokneized_words:\n",
    "    word_list.append(porter.stem(word))"
   ]
  },
  {
   "cell_type": "code",
   "execution_count": 9,
   "metadata": {},
   "outputs": [
    {
     "name": "stdout",
     "output_type": "stream",
     "text": [
      "['i', 'am', 'humbl', 'by', 'thi', 'tradit', 'meet']\n"
     ]
    }
   ],
   "source": [
    "print(word_list)"
   ]
  },
  {
   "cell_type": "code",
   "execution_count": 10,
   "metadata": {},
   "outputs": [
    {
     "data": {
      "text/plain": [
       "['i',\n",
       " 'want',\n",
       " 'to',\n",
       " 'eat',\n",
       " 'pork',\n",
       " 'belly',\n",
       " 'and',\n",
       " 'kimchi',\n",
       " 'fried',\n",
       " 'rice',\n",
       " 'but',\n",
       " 'my',\n",
       " 'sister',\n",
       " 'said',\n",
       " 'i',\n",
       " 'am',\n",
       " 'too',\n",
       " 'fat',\n",
       " 'too',\n",
       " 'eat',\n",
       " 'all',\n",
       " 'those',\n",
       " 'food',\n",
       " '.']"
      ]
     },
     "execution_count": 10,
     "metadata": {},
     "output_type": "execute_result"
    }
   ],
   "source": [
    "tk_words= ['i','want','to','eat','pork','belly','and','kimchi','fried','rice','but','my','sister','said','i','am','too','fat','too','eat','all','those','food','.']\n",
    "tk_words"
   ]
  },
  {
   "cell_type": "code",
   "execution_count": 11,
   "metadata": {},
   "outputs": [
    {
     "name": "stdout",
     "output_type": "stream",
     "text": [
      "['i', 'want', 'to', 'eat', 'pork', 'belli', 'and', 'kimchi', 'fri', 'rice', 'but', 'my', 'sister', 'said', 'i', 'am', 'too', 'fat', 'too', 'eat', 'all', 'those', 'food', '.']\n"
     ]
    }
   ],
   "source": [
    "word_list = []\n",
    "# 어간 추출기를 적용합니다.\n",
    "for word in tk_words:\n",
    "    word_list.append(porter.stem(word))\n",
    "    \n",
    "print(word_list)  "
   ]
  },
  {
   "cell_type": "code",
   "execution_count": 12,
   "metadata": {},
   "outputs": [
    {
     "name": "stdout",
     "output_type": "stream",
     "text": [
      "['i', 'love', 'to', 'eat', 'the', 'pineappl', 'pizza', ',', 'but', 'my', 'wife', 'think', 'that', 'pineappl', 'pizza', 'is', 'not', 'a', 'real', 'pizza', '.']\n"
     ]
    }
   ],
   "source": [
    "tokenized_words = ['i','love','to','eat','the','pineapple','pizza',',','but','my','wife','thinks','that','pineapple','pizza','is','not','a','real','pizza','.']\n",
    "word_list = []\n",
    "# 어간 추출기를 적용합니다.\n",
    "for word in tokenized_words:\n",
    "    word_list.append(porter.stem(word))\n",
    "    \n",
    "print(word_list)  "
   ]
  }
 ],
 "metadata": {
  "kernelspec": {
   "display_name": "Python 3.10.5 64-bit",
   "language": "python",
   "name": "python3"
  },
  "language_info": {
   "codemirror_mode": {
    "name": "ipython",
    "version": 3
   },
   "file_extension": ".py",
   "mimetype": "text/x-python",
   "name": "python",
   "nbconvert_exporter": "python",
   "pygments_lexer": "ipython3",
   "version": "3.10.5"
  },
  "orig_nbformat": 4,
  "vscode": {
   "interpreter": {
    "hash": "e89c93e4c07d4ac8f065cea982a638287e1c61026788fcbbad7e0263e2130583"
   }
  }
 },
 "nbformat": 4,
 "nbformat_minor": 2
}
