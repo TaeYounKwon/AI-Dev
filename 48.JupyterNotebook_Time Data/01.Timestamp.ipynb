{
 "cells": [
  {
   "cell_type": "code",
   "execution_count": 30,
   "metadata": {},
   "outputs": [],
   "source": [
    "import numpy as np\n",
    "import pandas as pd"
   ]
  },
  {
   "cell_type": "code",
   "execution_count": 31,
   "metadata": {},
   "outputs": [],
   "source": [
    "data_strings = np.array(['12-05-2022 01:28 PM',\n",
    "                        '12-06-2022 02:28 PM',\n",
    "                         '12-07-2022 12:00 AM'])"
   ]
  },
  {
   "cell_type": "code",
   "execution_count": 32,
   "metadata": {},
   "outputs": [
    {
     "name": "stdout",
     "output_type": "stream",
     "text": [
      "2022-05-12 13:28:00\n",
      "2022-06-12 14:28:00\n",
      "2022-07-12 00:00:00\n"
     ]
    }
   ],
   "source": [
    "# Timestamp\n",
    "for data1 in data_strings:\n",
    "    data1 = pd.to_datetime(data1, format='%d-%m-%Y %I:%M %p', errors='ignore') \n",
    "    print(data1)\n"
   ]
  },
  {
   "cell_type": "code",
   "execution_count": 33,
   "metadata": {},
   "outputs": [
    {
     "name": "stdout",
     "output_type": "stream",
     "text": [
      "12-05-2022 01:28 PM\n",
      "12-06-2022 02:28 PM\n",
      "12-07-2022 12:00 AM\n"
     ]
    }
   ],
   "source": [
    "for data2 in data_strings:\n",
    "    data2 = pd.to_datetime(data2, format='%d %I:%M %p', errors=\"ignore\")\n",
    "    print(data2)"
   ]
  },
  {
   "cell_type": "code",
   "execution_count": 34,
   "metadata": {},
   "outputs": [
    {
     "name": "stdout",
     "output_type": "stream",
     "text": [
      "12-05-2022 01:28 PM\n",
      "12-06-2022 02:28 PM\n",
      "12-07-2022 12:00 AM\n"
     ]
    }
   ],
   "source": [
    "for data3 in data_strings:\n",
    "    data3 = pd.to_datetime(data3, format='%Y.%m.%d %p', errors=\"ignore\")\n",
    "    print(data3)"
   ]
  },
  {
   "cell_type": "code",
   "execution_count": null,
   "metadata": {},
   "outputs": [],
   "source": []
  }
 ],
 "metadata": {
  "kernelspec": {
   "display_name": "Python 3.10.5 64-bit",
   "language": "python",
   "name": "python3"
  },
  "language_info": {
   "codemirror_mode": {
    "name": "ipython",
    "version": 3
   },
   "file_extension": ".py",
   "mimetype": "text/x-python",
   "name": "python",
   "nbconvert_exporter": "python",
   "pygments_lexer": "ipython3",
   "version": "3.10.5"
  },
  "orig_nbformat": 4,
  "vscode": {
   "interpreter": {
    "hash": "e89c93e4c07d4ac8f065cea982a638287e1c61026788fcbbad7e0263e2130583"
   }
  }
 },
 "nbformat": 4,
 "nbformat_minor": 2
}
