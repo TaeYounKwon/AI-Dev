{
 "cells": [
  {
   "cell_type": "code",
   "execution_count": 1,
   "metadata": {},
   "outputs": [],
   "source": [
    "import pandas as pd"
   ]
  },
  {
   "cell_type": "code",
   "execution_count": 5,
   "metadata": {},
   "outputs": [
    {
     "data": {
      "text/plain": [
       "DatetimeIndex(['2022-01-02', '2022-01-09', '2022-01-16', '2022-01-23',\n",
       "               '2022-01-30', '2022-02-06', '2022-02-13', '2022-02-20',\n",
       "               '2022-02-27', '2022-03-06',\n",
       "               ...\n",
       "               '2024-09-08', '2024-09-15', '2024-09-22', '2024-09-29',\n",
       "               '2024-10-06', '2024-10-13', '2024-10-20', '2024-10-27',\n",
       "               '2024-11-03', '2024-11-10'],\n",
       "              dtype='datetime64[ns]', length=150, freq='W-SUN')"
      ]
     },
     "execution_count": 5,
     "metadata": {},
     "output_type": "execute_result"
    }
   ],
   "source": [
    "dataframe = pd.DataFrame()\n",
    "temp = dataframe['date'] = pd.date_range('1/1/2022', periods=150, freq='w')\n",
    "temp"
   ]
  },
  {
   "cell_type": "code",
   "execution_count": 3,
   "metadata": {},
   "outputs": [],
   "source": [
    "# 년 월 일 시 분에 대한 특성을 만듭니다.\n",
    "dataframe['year'] = dataframe['date'].dt.year\n",
    "dataframe['month'] = dataframe['date'].dt.month\n",
    "dataframe['day'] = dataframe['date'].dt.day\n",
    "dataframe['hour'] = dataframe['date'].dt.hour\n",
    "dataframe['minute'] = dataframe['date'].dt.minute"
   ]
  },
  {
   "cell_type": "code",
   "execution_count": 4,
   "metadata": {},
   "outputs": [
    {
     "name": "stdout",
     "output_type": "stream",
     "text": [
      "         date  year  month  day  hour  minute\n",
      "0  2022-01-02  2022      1    2     0       0\n",
      "1  2022-01-09  2022      1    9     0       0\n",
      "2  2022-01-16  2022      1   16     0       0\n",
      "3  2022-01-23  2022      1   23     0       0\n",
      "4  2022-01-30  2022      1   30     0       0\n",
      "5  2022-02-06  2022      2    6     0       0\n",
      "6  2022-02-13  2022      2   13     0       0\n",
      "7  2022-02-20  2022      2   20     0       0\n",
      "8  2022-02-27  2022      2   27     0       0\n",
      "9  2022-03-06  2022      3    6     0       0\n",
      "10 2022-03-13  2022      3   13     0       0\n",
      "11 2022-03-20  2022      3   20     0       0\n",
      "12 2022-03-27  2022      3   27     0       0\n",
      "13 2022-04-03  2022      4    3     0       0\n",
      "14 2022-04-10  2022      4   10     0       0\n",
      "15 2022-04-17  2022      4   17     0       0\n",
      "16 2022-04-24  2022      4   24     0       0\n",
      "17 2022-05-01  2022      5    1     0       0\n",
      "18 2022-05-08  2022      5    8     0       0\n",
      "19 2022-05-15  2022      5   15     0       0\n",
      "20 2022-05-22  2022      5   22     0       0\n",
      "21 2022-05-29  2022      5   29     0       0\n",
      "22 2022-06-05  2022      6    5     0       0\n",
      "23 2022-06-12  2022      6   12     0       0\n",
      "24 2022-06-19  2022      6   19     0       0\n",
      "25 2022-06-26  2022      6   26     0       0\n",
      "26 2022-07-03  2022      7    3     0       0\n",
      "27 2022-07-10  2022      7   10     0       0\n",
      "28 2022-07-17  2022      7   17     0       0\n",
      "29 2022-07-24  2022      7   24     0       0\n"
     ]
    }
   ],
   "source": [
    "print(dataframe.head(30))"
   ]
  }
 ],
 "metadata": {
  "kernelspec": {
   "display_name": "Python 3.10.5 64-bit",
   "language": "python",
   "name": "python3"
  },
  "language_info": {
   "codemirror_mode": {
    "name": "ipython",
    "version": 3
   },
   "file_extension": ".py",
   "mimetype": "text/x-python",
   "name": "python",
   "nbconvert_exporter": "python",
   "pygments_lexer": "ipython3",
   "version": "3.10.5"
  },
  "orig_nbformat": 4,
  "vscode": {
   "interpreter": {
    "hash": "e89c93e4c07d4ac8f065cea982a638287e1c61026788fcbbad7e0263e2130583"
   }
  }
 },
 "nbformat": 4,
 "nbformat_minor": 2
}
