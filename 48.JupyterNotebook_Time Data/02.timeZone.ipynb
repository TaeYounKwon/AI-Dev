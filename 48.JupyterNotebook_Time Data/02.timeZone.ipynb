{
 "cells": [
  {
   "cell_type": "code",
   "execution_count": 1,
   "metadata": {},
   "outputs": [],
   "source": [
    "import pandas as pd\n",
    "from pytz import all_timezones\n",
    "from pytz import timezone"
   ]
  },
  {
   "cell_type": "code",
   "execution_count": 12,
   "metadata": {},
   "outputs": [
    {
     "data": {
      "text/plain": [
       "Timestamp('2022-12-07 03:54:00+0000', tz='Europe/London')"
      ]
     },
     "execution_count": 12,
     "metadata": {},
     "output_type": "execute_result"
    }
   ],
   "source": [
    "data = pd.Timestamp('2022-12-07 03:54:00')  # dataitem 만듬\n",
    "\n",
    "data_in_london = data.tz_localize(tz='Europe/London')\n",
    "data_in_london"
   ]
  },
  {
   "cell_type": "code",
   "execution_count": 10,
   "metadata": {},
   "outputs": [
    {
     "data": {
      "text/plain": [
       "0   2022-02-28 00:00:00+00:00\n",
       "1   2022-03-31 00:00:00+00:00\n",
       "2   2022-04-30 00:00:00+00:00\n",
       "dtype: datetime64[ns, Africa/Abidjan]"
      ]
     },
     "execution_count": 10,
     "metadata": {},
     "output_type": "execute_result"
    }
   ],
   "source": [
    "data_in_london.tz_convert('Africa/Abidjan')\n",
    "dates = pd.Series(pd.date_range('2/2/2022', periods=3, freq='M'))\n",
    "temp = dates.dt.tz_localize('Africa/Abidjan')\n",
    "temp\n"
   ]
  },
  {
   "cell_type": "code",
   "execution_count": 9,
   "metadata": {},
   "outputs": [
    {
     "name": "stdout",
     "output_type": "stream",
     "text": [
      "['Africa/Abidjan', 'Africa/Accra']\n"
     ]
    }
   ],
   "source": [
    "# print(temp)\n",
    "print(all_timezones[0:2])"
   ]
  },
  {
   "cell_type": "code",
   "execution_count": 6,
   "metadata": {},
   "outputs": [
    {
     "name": "stdout",
     "output_type": "stream",
     "text": [
      "0   2022-02-28 00:00:00+09:00\n",
      "1   2022-03-31 00:00:00+09:00\n",
      "2   2022-04-30 00:00:00+09:00\n",
      "dtype: datetime64[ns, Asia/Seoul]\n"
     ]
    }
   ],
   "source": [
    "temp = dates.dt.tz_localize('dateutil/Aisa/Seoul')\n",
    "tz = timezone('Asia/Seoul')\n",
    "temp01 = dates.dt.tz_localize(tz)\n",
    "print(temp01)"
   ]
  }
 ],
 "metadata": {
  "kernelspec": {
   "display_name": "Python 3.10.5 64-bit",
   "language": "python",
   "name": "python3"
  },
  "language_info": {
   "codemirror_mode": {
    "name": "ipython",
    "version": 3
   },
   "file_extension": ".py",
   "mimetype": "text/x-python",
   "name": "python",
   "nbconvert_exporter": "python",
   "pygments_lexer": "ipython3",
   "version": "3.10.5"
  },
  "orig_nbformat": 4,
  "vscode": {
   "interpreter": {
    "hash": "e89c93e4c07d4ac8f065cea982a638287e1c61026788fcbbad7e0263e2130583"
   }
  }
 },
 "nbformat": 4,
 "nbformat_minor": 2
}
